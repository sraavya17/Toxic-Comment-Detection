{
 "cells": [
  {
   "cell_type": "code",
   "execution_count": 1,
   "id": "004144ab",
   "metadata": {},
   "outputs": [],
   "source": [
    "import os\n",
    "import numpy as np\n",
    "import pandas as pd"
   ]
  },
  {
   "cell_type": "code",
   "execution_count": 2,
   "id": "68913235",
   "metadata": {},
   "outputs": [],
   "source": [
    "train_data = pd.read_pickle('train_data.pkl')\n",
    "test_data = pd.read_pickle('test_data.pkl')"
   ]
  },
  {
   "cell_type": "code",
   "execution_count": 3,
   "id": "42b78e23",
   "metadata": {},
   "outputs": [
    {
     "data": {
      "text/html": [
       "<div>\n",
       "<style scoped>\n",
       "    .dataframe tbody tr th:only-of-type {\n",
       "        vertical-align: middle;\n",
       "    }\n",
       "\n",
       "    .dataframe tbody tr th {\n",
       "        vertical-align: top;\n",
       "    }\n",
       "\n",
       "    .dataframe thead th {\n",
       "        text-align: right;\n",
       "    }\n",
       "</style>\n",
       "<table border=\"1\" class=\"dataframe\">\n",
       "  <thead>\n",
       "    <tr style=\"text-align: right;\">\n",
       "      <th></th>\n",
       "      <th>text</th>\n",
       "      <th>label</th>\n",
       "    </tr>\n",
       "  </thead>\n",
       "  <tbody>\n",
       "    <tr>\n",
       "      <th>140030</th>\n",
       "      <td>grandma terri burn trash grandma terri trash h...</td>\n",
       "      <td>1</td>\n",
       "    </tr>\n",
       "    <tr>\n",
       "      <th>159124</th>\n",
       "      <td>9 may 2009 utc would easiest admit member invo...</td>\n",
       "      <td>0</td>\n",
       "    </tr>\n",
       "    <tr>\n",
       "      <th>60006</th>\n",
       "      <td>objectivity discussion doubtful non existent 1...</td>\n",
       "      <td>0</td>\n",
       "    </tr>\n",
       "    <tr>\n",
       "      <th>65432</th>\n",
       "      <td>shelly shock shelly shock</td>\n",
       "      <td>0</td>\n",
       "    </tr>\n",
       "    <tr>\n",
       "      <th>154979</th>\n",
       "      <td>care refer ong teng cheong talk page la goutte...</td>\n",
       "      <td>0</td>\n",
       "    </tr>\n",
       "  </tbody>\n",
       "</table>\n",
       "</div>"
      ],
      "text/plain": [
       "                                                     text  label\n",
       "140030  grandma terri burn trash grandma terri trash h...      1\n",
       "159124  9 may 2009 utc would easiest admit member invo...      0\n",
       "60006   objectivity discussion doubtful non existent 1...      0\n",
       "65432                           shelly shock shelly shock      0\n",
       "154979  care refer ong teng cheong talk page la goutte...      0"
      ]
     },
     "execution_count": 3,
     "metadata": {},
     "output_type": "execute_result"
    }
   ],
   "source": [
    "train_data.head()"
   ]
  },
  {
   "cell_type": "code",
   "execution_count": 4,
   "id": "70cff575",
   "metadata": {},
   "outputs": [
    {
     "data": {
      "text/plain": [
       "text     0\n",
       "label    0\n",
       "dtype: int64"
      ]
     },
     "execution_count": 4,
     "metadata": {},
     "output_type": "execute_result"
    }
   ],
   "source": [
    "train_data.isna().sum()"
   ]
  },
  {
   "cell_type": "code",
   "execution_count": 5,
   "id": "fb83c738",
   "metadata": {},
   "outputs": [],
   "source": [
    "x = train_data['text'].values\n",
    "y = train_data['label'].values"
   ]
  },
  {
   "cell_type": "code",
   "execution_count": 6,
   "id": "82b6bacd",
   "metadata": {},
   "outputs": [
    {
     "name": "stdout",
     "output_type": "stream",
     "text": [
      "(127656, 5000)\n"
     ]
    }
   ],
   "source": [
    "from sklearn.feature_extraction.text import TfidfVectorizer\n",
    "\n",
    "# Initialize the TfidfVectorizer\n",
    "tfidf = TfidfVectorizer(max_features=5000)  # You can adjust max_features as needed\n",
    "\n",
    "# Fit and transform the text data\n",
    "x_tfidf = tfidf.fit_transform(x)\n",
    "\n",
    "# Check the shape of the resulting TF-IDF matrix\n",
    "print(x_tfidf.shape)"
   ]
  },
  {
   "cell_type": "code",
   "execution_count": 7,
   "id": "1b6f2a50",
   "metadata": {},
   "outputs": [],
   "source": [
    "x_test = test_data['text'].values\n",
    "x_test_tfidf = tfidf.transform(x_test)\n",
    "y_test = test_data['label'].values"
   ]
  },
  {
   "cell_type": "code",
   "execution_count": 8,
   "id": "ec0380e5",
   "metadata": {},
   "outputs": [
    {
     "name": "stdout",
     "output_type": "stream",
     "text": [
      "accuracy of Logistic Regression: 0.9282782390725364\n",
      "\n",
      "              precision    recall  f1-score   support\n",
      "\n",
      "           0       0.98      0.94      0.96     28671\n",
      "           1       0.60      0.86      0.71      3244\n",
      "\n",
      "    accuracy                           0.93     31915\n",
      "   macro avg       0.79      0.90      0.83     31915\n",
      "weighted avg       0.94      0.93      0.93     31915\n",
      "\n"
     ]
    }
   ],
   "source": [
    "from sklearn.metrics import classification_report, accuracy_score\n",
    "from sklearn.linear_model import LogisticRegression\n",
    "\n",
    "model_1 = LogisticRegression(class_weight='balanced')\n",
    "\n",
    "model_1.fit(x_tfidf, y)\n",
    "\n",
    "y_pred = model_1.predict(x_test_tfidf)\n",
    "print(f'accuracy of Logistic Regression: {accuracy_score(y_test, y_pred)}')\n",
    "print()\n",
    "print(classification_report(y_test, y_pred))\n"
   ]
  },
  {
   "cell_type": "code",
   "execution_count": 9,
   "id": "49f4d35f",
   "metadata": {},
   "outputs": [
    {
     "name": "stdout",
     "output_type": "stream",
     "text": [
      "accuracy of naive bayes: 0.9488015039949866\n",
      "\n",
      "              precision    recall  f1-score   support\n",
      "\n",
      "           0       0.95      1.00      0.97     28671\n",
      "           1       0.94      0.53      0.68      3244\n",
      "\n",
      "    accuracy                           0.95     31915\n",
      "   macro avg       0.94      0.76      0.83     31915\n",
      "weighted avg       0.95      0.95      0.94     31915\n",
      "\n"
     ]
    }
   ],
   "source": [
    "from sklearn.naive_bayes import MultinomialNB\n",
    "\n",
    "model_2 = MultinomialNB()\n",
    "\n",
    "model_2.fit(x_tfidf, y)\n",
    "y_pred_2 = model_2.predict(x_test_tfidf)\n",
    "print(f'accuracy of naive bayes: {accuracy_score(y_test, y_pred_2)}')\n",
    "print()\n",
    "print(classification_report(y_test, y_pred_2))"
   ]
  },
  {
   "cell_type": "code",
   "execution_count": 17,
   "id": "1a1da3b3",
   "metadata": {},
   "outputs": [],
   "source": [
    "def prediction(text):\n",
    "    text_tfidf = tfidf.transform([text])\n",
    "    pred = model_1.predict(text_tfidf)\n",
    "    if( pred[0] == 1):\n",
    "        print(f'{text} : Toxic comment')\n",
    "    else:\n",
    "        print(f'{text} : Non-toxic comment')"
   ]
  },
  {
   "cell_type": "code",
   "execution_count": 21,
   "id": "84e9536f",
   "metadata": {},
   "outputs": [
    {
     "name": "stdout",
     "output_type": "stream",
     "text": [
      "i hate you : Toxic comment\n",
      "I am an engineer : Non-toxic comment\n"
     ]
    }
   ],
   "source": [
    "text1 = 'i hate you'\n",
    "text2 = 'I am an engineer'\n",
    "prediction(text1)\n",
    "prediction(text2)"
   ]
  }
 ],
 "metadata": {
  "kernelspec": {
   "display_name": "base",
   "language": "python",
   "name": "python3"
  },
  "language_info": {
   "codemirror_mode": {
    "name": "ipython",
    "version": 3
   },
   "file_extension": ".py",
   "mimetype": "text/x-python",
   "name": "python",
   "nbconvert_exporter": "python",
   "pygments_lexer": "ipython3",
   "version": "3.11.7"
  }
 },
 "nbformat": 4,
 "nbformat_minor": 5
}
